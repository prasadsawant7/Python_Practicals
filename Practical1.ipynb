{
  "nbformat": 4,
  "nbformat_minor": 0,
  "metadata": {
    "colab": {
      "provenance": [],
      "authorship_tag": "ABX9TyOJiPwcztLS+lCfH0aNNbm6",
      "include_colab_link": true
    },
    "kernelspec": {
      "name": "python3",
      "display_name": "Python 3"
    },
    "language_info": {
      "name": "python"
    }
  },
  "cells": [
    {
      "cell_type": "markdown",
      "metadata": {
        "id": "view-in-github",
        "colab_type": "text"
      },
      "source": [
        "<a href=\"https://colab.research.google.com/github/prasadsawant7/Python_Practicals/blob/main/Practical1.ipynb\" target=\"_parent\"><img src=\"https://colab.research.google.com/assets/colab-badge.svg\" alt=\"Open In Colab\"/></a>"
      ]
    },
    {
      "cell_type": "code",
      "execution_count": 40,
      "metadata": {
        "colab": {
          "base_uri": "https://localhost:8080/"
        },
        "id": "131qdisqQF6j",
        "outputId": "1cbea263-81e5-4d2b-a502-a276208ecdea"
      },
      "outputs": [
        {
          "output_type": "stream",
          "name": "stdout",
          "text": [
            "a = 10 \n",
            "Type: <class 'int'>\n"
          ]
        }
      ],
      "source": [
        "# Integer\n",
        "a = 10\n",
        "print(f\"a = {a}\", f\"\\nType: {type(a)}\")"
      ]
    },
    {
      "cell_type": "code",
      "source": [
        "# Float\n",
        "PI = 3.1428\n",
        "print(f\"PI = {PI}\", f\"\\nType: {type(PI)}\")"
      ],
      "metadata": {
        "colab": {
          "base_uri": "https://localhost:8080/"
        },
        "id": "CMLNtQPAROjl",
        "outputId": "2606940b-d93a-4ed8-bfad-8e3271b006f3"
      },
      "execution_count": 41,
      "outputs": [
        {
          "output_type": "stream",
          "name": "stdout",
          "text": [
            "PI = 3.1428 \n",
            "Type: <class 'float'>\n"
          ]
        }
      ]
    },
    {
      "cell_type": "code",
      "source": [
        "# Complex Number\n",
        "comp = 29 + 5j\n",
        "print(f\"comp = {comp}\", f\"\\nType: {type(comp)}\")"
      ],
      "metadata": {
        "colab": {
          "base_uri": "https://localhost:8080/"
        },
        "id": "mmrSW7SRRhK0",
        "outputId": "6b7d935b-c9b6-416c-af4a-78b3c2f9d78f"
      },
      "execution_count": 42,
      "outputs": [
        {
          "output_type": "stream",
          "name": "stdout",
          "text": [
            "comp = (29+5j) \n",
            "Type: <class 'complex'>\n"
          ]
        }
      ]
    },
    {
      "cell_type": "code",
      "source": [
        "# String\n",
        "msg = \"Hello World\"\n",
        "print(f\"msg = {msg}\", f\"\\nType: {type(msg)}\")"
      ],
      "metadata": {
        "colab": {
          "base_uri": "https://localhost:8080/"
        },
        "id": "9uDfBccAQ9_6",
        "outputId": "6dae175a-4b70-465c-8c3f-43d578985f96"
      },
      "execution_count": 43,
      "outputs": [
        {
          "output_type": "stream",
          "name": "stdout",
          "text": [
            "msg = Hello World \n",
            "Type: <class 'str'>\n"
          ]
        }
      ]
    },
    {
      "cell_type": "code",
      "source": [
        "# List\n",
        "nums = [10, 20, 30, 40, 50]\n",
        "print(f\"nums = {nums}\", f\"\\nType: {type(nums)}\")\n",
        "\n",
        "fruits = [\"apple\", \"banana\", \"cherry\"]\n",
        "print(f\"fruits = {fruits}\", f\"\\nType: {type(fruits)}\")\n",
        "\n",
        "mix = [\"John Doe\", 19, 98.20, [400037, \"Mumbai\", \"Maharashtra\", \"India\"]]\n",
        "print(f\"mix = {mix}\", f\"\\nType: {type(mix)}\")"
      ],
      "metadata": {
        "colab": {
          "base_uri": "https://localhost:8080/"
        },
        "id": "eshw_kXZR6oq",
        "outputId": "5f57f7a2-f52f-4c3b-87e9-30f0ff9f5a50"
      },
      "execution_count": 44,
      "outputs": [
        {
          "output_type": "stream",
          "name": "stdout",
          "text": [
            "nums = [10, 20, 30, 40, 50] \n",
            "Type: <class 'list'>\n",
            "fruits = ['apple', 'banana', 'cherry'] \n",
            "Type: <class 'list'>\n",
            "mix = ['John Doe', 19, 98.2, [400037, 'Mumbai', 'Maharashtra', 'India']] \n",
            "Type: <class 'list'>\n"
          ]
        }
      ]
    },
    {
      "cell_type": "code",
      "source": [
        "# Tuple\n",
        "tup = (0, 2, 4, 6, 8, 10, \"Even Numbers\")\n",
        "print(f\"tup = {tup}\", f\"\\nType: {type(tup)}\")"
      ],
      "metadata": {
        "colab": {
          "base_uri": "https://localhost:8080/"
        },
        "id": "OS9xNFKrTUF5",
        "outputId": "eb1b47a5-b3d3-4628-9dc6-6c6565ed0af4"
      },
      "execution_count": 45,
      "outputs": [
        {
          "output_type": "stream",
          "name": "stdout",
          "text": [
            "tup = (0, 2, 4, 6, 8, 10, 'Even Numbers') \n",
            "Type: <class 'tuple'>\n"
          ]
        }
      ]
    },
    {
      "cell_type": "code",
      "source": [
        "# Sets\n",
        "emp_id = {10001, 10002, 10003, 1004, 1005}\n",
        "print(f\"emp_id = {emp_id}\", f\"\\nType: {type(emp_id)}\")"
      ],
      "metadata": {
        "colab": {
          "base_uri": "https://localhost:8080/"
        },
        "id": "imYUYapNWh7F",
        "outputId": "fde28c6c-f099-4811-f1b3-f713795f3e50"
      },
      "execution_count": 46,
      "outputs": [
        {
          "output_type": "stream",
          "name": "stdout",
          "text": [
            "emp_id = {1004, 1005, 10001, 10002, 10003} \n",
            "Type: <class 'set'>\n"
          ]
        }
      ]
    },
    {
      "cell_type": "code",
      "source": [
        "# Dictionary\n",
        "employee = {\n",
        "    \"emp_id\": 1001,\n",
        "    \"emp_name\": \"John Doe\",\n",
        "    \"emp_dept\": \"Development Team\",\n",
        "    \"emp_salary\": 80_000.00\n",
        "}\n",
        "print(f\"employee = {employee}\", f\"\\nType: {type(employee)}\")"
      ],
      "metadata": {
        "colab": {
          "base_uri": "https://localhost:8080/"
        },
        "id": "9QBZnN2sXG6L",
        "outputId": "e38b4cb3-0319-47e1-b5f6-a04d14e96c83"
      },
      "execution_count": 47,
      "outputs": [
        {
          "output_type": "stream",
          "name": "stdout",
          "text": [
            "employee = {'emp_id': 1001, 'emp_name': 'John Doe', 'emp_dept': 'Development Team', 'emp_salary': 80000.0} \n",
            "Type: <class 'dict'>\n"
          ]
        }
      ]
    },
    {
      "cell_type": "code",
      "source": [
        "# Control Statements\n",
        "# If Else Elif\n",
        "age = int(input(\"Enter age: \"))\n",
        "if age >= 30:\n",
        "  print(\"You are millenium!\")\n",
        "elif age<30:\n",
        "  print(\"You are Gen-Z\")\n",
        "else:\n",
        "  print(\"You aren't anything!\")"
      ],
      "metadata": {
        "colab": {
          "base_uri": "https://localhost:8080/"
        },
        "id": "0P5iB0XyXxUG",
        "outputId": "f5b61f22-b7ca-4fc2-a356-93ac1e429430"
      },
      "execution_count": 48,
      "outputs": [
        {
          "output_type": "stream",
          "name": "stdout",
          "text": [
            "Enter age: 19\n",
            "You are Gen-Z\n"
          ]
        }
      ]
    },
    {
      "cell_type": "code",
      "source": [
        "# Loops\n",
        "# For Loop\n",
        "array = [10, 20, 30, 40 ,50]\n",
        "key = 30\n",
        "for i in array:\n",
        "  if i == key:\n",
        "    print(f\"{i} found!\")\n",
        "    break\n",
        "  else:\n",
        "    continue"
      ],
      "metadata": {
        "colab": {
          "base_uri": "https://localhost:8080/"
        },
        "id": "4MlbP7FpY8GH",
        "outputId": "4f6e8fad-6b8b-4ea8-8807-be1d7bb2a59e"
      },
      "execution_count": 49,
      "outputs": [
        {
          "output_type": "stream",
          "name": "stdout",
          "text": [
            "30 found!\n"
          ]
        }
      ]
    },
    {
      "cell_type": "code",
      "source": [
        "# While Loop\n",
        "nums = range(0, 21)\n",
        "i = 0\n",
        "while i < len(nums):\n",
        "  print(nums[i])\n",
        "  i+=1"
      ],
      "metadata": {
        "colab": {
          "base_uri": "https://localhost:8080/"
        },
        "id": "JhC3VlLtaHva",
        "outputId": "840a712c-fb68-436d-a394-10e6cde875fa"
      },
      "execution_count": 50,
      "outputs": [
        {
          "output_type": "stream",
          "name": "stdout",
          "text": [
            "0\n",
            "1\n",
            "2\n",
            "3\n",
            "4\n",
            "5\n",
            "6\n",
            "7\n",
            "8\n",
            "9\n",
            "10\n",
            "11\n",
            "12\n",
            "13\n",
            "14\n",
            "15\n",
            "16\n",
            "17\n",
            "18\n",
            "19\n",
            "20\n"
          ]
        }
      ]
    }
  ]
}